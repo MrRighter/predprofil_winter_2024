{
 "cells": [
  {
   "cell_type": "code",
   "execution_count": 1,
   "id": "47ea316a",
   "metadata": {},
   "outputs": [
    {
     "name": "stdout",
     "output_type": "stream",
     "text": [
      "Requirement already satisfied: opencv-python in c:\\users\\technopark\\anaconda3\\lib\\site-packages (4.9.0.80)\n",
      "Requirement already satisfied: numpy>=1.21.2 in c:\\users\\technopark\\anaconda3\\lib\\site-packages (from opencv-python) (1.24.3)\n"
     ]
    }
   ],
   "source": [
    "!pip install opencv-python"
   ]
  },
  {
   "cell_type": "code",
   "execution_count": 1,
   "id": "0c349e32",
   "metadata": {},
   "outputs": [
    {
     "name": "stdout",
     "output_type": "stream",
     "text": [
      "<class 'numpy.ndarray'>\n",
      "(1000, 1000, 3)\n"
     ]
    },
    {
     "data": {
      "text/plain": [
       "-1"
      ]
     },
     "execution_count": 1,
     "metadata": {},
     "output_type": "execute_result"
    }
   ],
   "source": [
    "import cv2\n",
    "\n",
    "img = cv2.imread(\"1.jpg\")\n",
    "\n",
    "# cv2.imshow(\"img\", img)\n",
    "\n",
    "shape = img.shape\n",
    "print(type(img))\n",
    "\n",
    "a = round(min(shape[0], shape[1]) * 0.52)\n",
    "height, width = shape[0], shape[1]\n",
    "# print((height - a // 2), (height + a // 2))\n",
    "img[(height // 2 - a // 2):(height // 2 + a // 2), (width // 2 - a // 2):(width // 2 + a // 2)] = [170, 0, 255]\n",
    "cv2.imshow(\"img\", img)\n",
    "print(shape)\n",
    "# print(img)\n",
    "cv2.waitKey(0)"
   ]
  },
  {
   "cell_type": "code",
   "execution_count": 12,
   "id": "64880181",
   "metadata": {},
   "outputs": [],
   "source": [
    "cv2.destroyAllWindows()"
   ]
  },
  {
   "cell_type": "code",
   "execution_count": 10,
   "id": "d0e3a742",
   "metadata": {},
   "outputs": [],
   "source": [
    "import cv2\n",
    "\n",
    "capture = cv2.VideoCapture(0)\n",
    "\n",
    "while True:\n",
    "    ret, frame = capture.read()\n",
    "#     print(frame.shape)\n",
    "    h, w, _ = frame.shape\n",
    "    \n",
    "    cv2.imshow(\"img\", frame)\n",
    "    \n",
    "    for i_str in range(h):\n",
    "        frame[i_str] = frame[i_str][::-1]\n",
    "    \n",
    "    cv2.imshow(\"img_mirror\", frame)\n",
    "    \n",
    "    key = cv2.waitKey(1)\n",
    "    \n",
    "    if key == ord(\" \"):\n",
    "        break"
   ]
  }
 ],
 "metadata": {
  "kernelspec": {
   "display_name": "Python 3 (ipykernel)",
   "language": "python",
   "name": "python3"
  },
  "language_info": {
   "codemirror_mode": {
    "name": "ipython",
    "version": 3
   },
   "file_extension": ".py",
   "mimetype": "text/x-python",
   "name": "python",
   "nbconvert_exporter": "python",
   "pygments_lexer": "ipython3",
   "version": "3.11.5"
  }
 },
 "nbformat": 4,
 "nbformat_minor": 5
}
